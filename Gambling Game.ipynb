{
 "cells": [
  {
   "cell_type": "code",
   "execution_count": 4,
   "id": "6c87fef3",
   "metadata": {},
   "outputs": [
    {
     "name": "stdout",
     "output_type": "stream",
     "text": [
      "Inser a number: 15\n",
      "Inser a number: 17\n",
      "Inser a number: 18\n",
      "Inser a number: 19\n",
      "Inser a number: 20\n",
      "Inser a number: 21\n",
      "Result of Gambling Game:  {47, 48, 50, 51, 84, 82}\n",
      "Numbers you guessed {15, 17, 18, 19, 20, 21}\n",
      "0 pcs correct answer. You win 0 $\n"
     ]
    }
   ],
   "source": [
    "#Gambling Game\n",
    "#Rule-1 Robot gives you different number \n",
    "#Rule-2 Insert 6 different number from 0 to 90\n",
    "#Rule-4 For each correct answer, you get 100 Dollars\n",
    "\n",
    "import random\n",
    "\n",
    "random1 = set()\n",
    "RobotSize = 6\n",
    "RobotAnswerSize = 0\n",
    "c=[]\n",
    "\n",
    "while RobotAnswerSize < RobotSize:\n",
    "    x = random.randint(0,90)\n",
    "    if x not in random1:\n",
    "        RobotAnswerSize += 1\n",
    "        random1.add(x)\n",
    "                         \n",
    "for j in range(1,7):\n",
    "    c.append(int(input(\"Inser a number: \")))\n",
    "    \n",
    "c = set(c)\n",
    "print(\"Result of Gambling Game: \",random1)\n",
    "print(\"Numbers you guessed\",c) \n",
    "\n",
    "c.update(random1)\n",
    "\n",
    "print(12-len(c),\"pcs correct answer. You win\",(12-len(c))*100,\"$\")"
   ]
  },
  {
   "cell_type": "code",
   "execution_count": null,
   "id": "53b16b41",
   "metadata": {},
   "outputs": [],
   "source": []
  }
 ],
 "metadata": {
  "kernelspec": {
   "display_name": "Python 3",
   "language": "python",
   "name": "python3"
  },
  "language_info": {
   "codemirror_mode": {
    "name": "ipython",
    "version": 3
   },
   "file_extension": ".py",
   "mimetype": "text/x-python",
   "name": "python",
   "nbconvert_exporter": "python",
   "pygments_lexer": "ipython3",
   "version": "3.8.11"
  }
 },
 "nbformat": 4,
 "nbformat_minor": 5
}
